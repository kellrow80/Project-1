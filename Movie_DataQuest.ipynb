{
 "cells": [
  {
   "cell_type": "markdown",
   "id": "62c49f31",
   "metadata": {},
   "source": [
    "# Movie_DataQuest - Search For The Best Single Factor"
   ]
  },
  {
   "cell_type": "code",
   "execution_count": null,
   "id": "1e6ede66",
   "metadata": {},
   "outputs": [],
   "source": [
    "# Dependencies\n",
    "import requests\n",
    "#from config import api_key\n",
    "import pandas as pd\n",
    "import matplotlib.pyplot as plt\n",
    "from scipy.stats import linregress\n",
    "import numpy as np"
   ]
  },
  {
   "cell_type": "markdown",
   "id": "27c7bb60",
   "metadata": {},
   "source": [
    "### Steve's Code Goes Here"
   ]
  },
  {
   "cell_type": "code",
   "execution_count": null,
   "id": "6622dfa2",
   "metadata": {},
   "outputs": [],
   "source": [
    "#Get MovieLens IMDB data"
   ]
  },
  {
   "cell_type": "code",
   "execution_count": null,
   "id": "b48a7300",
   "metadata": {},
   "outputs": [],
   "source": [
    "# Get TMDB data especially with respect to box office "
   ]
  },
  {
   "cell_type": "code",
   "execution_count": null,
   "id": "afaeb829",
   "metadata": {},
   "outputs": [],
   "source": [
    "# Merge MovieLens with TMDB"
   ]
  },
  {
   "cell_type": "markdown",
   "id": "49aabc0f",
   "metadata": {},
   "source": [
    "### Jim's Code Goes Here"
   ]
  },
  {
   "cell_type": "code",
   "execution_count": null,
   "id": "3a28f16d",
   "metadata": {},
   "outputs": [],
   "source": [
    "# Get 900 random movie sample from the OMDB"
   ]
  },
  {
   "cell_type": "code",
   "execution_count": null,
   "id": "21ef639e",
   "metadata": {},
   "outputs": [],
   "source": [
    "# Merge based on movie code to produce testible db "
   ]
  },
  {
   "cell_type": "markdown",
   "id": "ab5223cf",
   "metadata": {},
   "source": [
    "### Kelly's Code Here"
   ]
  },
  {
   "cell_type": "code",
   "execution_count": null,
   "id": "7d1204b9",
   "metadata": {},
   "outputs": [],
   "source": [
    "test_data_df = pd.DataFrame({\"Movie Title\": [\"Ghostbusters\", \"Ghostbusters II\", \"Hocus Pocus\"],\n",
    "                             \"Run Time\": [\"100\", \"110\", \"120\"],\n",
    "                             \"Box Office Sales\": [\"200\", \"250\", \"300\"],\n",
    "                             \"Budget\": [\"150\", \"250\", \"350\"]})\n",
    "test_data_df\n"
   ]
  },
  {
   "cell_type": "code",
   "execution_count": null,
   "id": "5d735c6e",
   "metadata": {},
   "outputs": [],
   "source": [
    "# Correlate Box Office v. Run time\n",
    "\n",
    "\n",
    "x_values = test_data_df[\"Box Office Sales\"]\n",
    "y_values = test_data_df[\"Run Time\"]\n",
    "plt.xlabel(\"Box Office Sales\")\n",
    "plt.ylabel(\"Movie Run Time (in minutes)\")\n",
    "plt.title(\"Movie Run time vs Box Office Sales\")\n",
    "plt.scatter(x_values, y_values, marker = \"o\", facecolors = \"purple\", edgecolors=\"black\")\n",
    "\n",
    "plt.show()\n"
   ]
  },
  {
   "cell_type": "code",
   "execution_count": null,
   "id": "740461b5",
   "metadata": {},
   "outputs": [],
   "source": [
    "x_values = test_data_df[\"Box Office Sales\"]\n",
    "y_values = test_data_df[\"Run Time\"]\n",
    "plt.xlabel(\"Box Office Sales\")\n",
    "plt.ylabel(\"Movie Run Time (in minutes)\")\n",
    "plt.title(\"Movie Run Time vs Box Office Sales\")\n",
    "plt.scatter(x_values, y_values, marker = \"o\", facecolors = \"purple\", edgecolors=\"black\")\n",
    "\n",
    "(slope, intercept, rvalue, pvalue, stderr) = linregress(x_values, y_values)\n",
    "regress_values = x_values * slope + intercept\n",
    "\n",
    "line_eq = \"y = \" + str(round(slope,2)) + \"x +\" + str(round(intercept,2))\n",
    "\n",
    "plt.scatter(x_values, y_values, marker = \"o\", facecolors=\"purple\", edgecolors=\"black\")\n",
    "plt.plot(x_values,regress_values,\"r-\")\n",
    "\n",
    "\n",
    "plt.xlabel(\"Box Office Sales\")\n",
    "plt.ylabel(\"Movie Run Time\")\n",
    "plt.title(\"Movie Run Time vs Box Office Sales\")\n",
    "plt.annotate(line_eq,(10,15),fontsize=15,color=\"red\")\n",
    "\n",
    "\n",
    "print(f\"The r-value is: {rvalue**2}\")\n",
    "\n",
    "\n",
    "plt.show()"
   ]
  },
  {
   "cell_type": "code",
   "execution_count": null,
   "id": "cf3931b8",
   "metadata": {},
   "outputs": [],
   "source": [
    "# Correlate Box Office v. Budget\n",
    "\n",
    "x_values = test_data_df[\"Box Office Sales\"]\n",
    "y_values = test_data_df[\"Budget\"]\n",
    "plt.xlabel(\"Box Office Sales\")\n",
    "plt.ylabel(\"Movie Budget Amount\")\n",
    "plt.title(\"Movie Budget Amount vs Box Office Sales\")\n",
    "plt.scatter(x_values, y_values, marker = \"o\", facecolors = \"green\", edgecolors=\"black\")\n",
    "\n",
    "plt.show()\n",
    "\n",
    "# Awards / nominations\n",
    "# MPAA Rating\n"
   ]
  },
  {
   "cell_type": "code",
   "execution_count": null,
   "id": "4b488169",
   "metadata": {},
   "outputs": [],
   "source": [
    "x_values = test_data_df[\"Box Office Sales\"]\n",
    "y_values = test_data_df[\"Budget\"]\n",
    "plt.xlabel(\"Box Office Sales\")\n",
    "plt.ylabel(\"Movie Budget Amount\")\n",
    "plt.title(\"Movie Budget Amount vs Box Office Sales\")\n",
    "plt.scatter(x_values, y_values, marker = \"o\", facecolors = \"green\", edgecolors=\"black\")\n",
    "\n",
    "(slope, intercept, rvalue, pvalue, stderr) = linregress(x_values, y_values)\n",
    "regress_values = x_values * slope + intercept\n",
    "\n",
    "line_eq = \"y = \" + str(round(slope,2)) + \"x +\" + str(round(intercept,2))\n",
    "\n",
    "plt.scatter(x_values, y_values, marker = \"o\", facecolors=\"green\", edgecolors=\"black\")\n",
    "plt.plot(x_values,regress_values,\"r-\")\n",
    "\n",
    "\n",
    "plt.xlabel(\"Box Office Sales\")\n",
    "plt.ylabel(\"Movie Run Time\")\n",
    "plt.title(\"Movie Run Time vs Box Office Sales\")\n",
    "plt.annotate(line_eq,(10,15),fontsize=15,color=\"red\")\n",
    "\n",
    "\n",
    "print(f\"The r-value is: {rvalue**2}\")\n",
    "\n",
    "\n",
    "plt.show()"
   ]
  },
  {
   "cell_type": "markdown",
   "id": "fa3f9c23",
   "metadata": {},
   "source": [
    "### Philips' Code Goes Here"
   ]
  },
  {
   "cell_type": "code",
   "execution_count": null,
   "id": "b56cf14c",
   "metadata": {},
   "outputs": [],
   "source": [
    "# Correlate Box Office v. Critical reviews"
   ]
  },
  {
   "cell_type": "code",
   "execution_count": null,
   "id": "94b66aa8",
   "metadata": {},
   "outputs": [],
   "source": [
    "# Correlate Box Office v. User reviews"
   ]
  },
  {
   "cell_type": "markdown",
   "id": "839de493",
   "metadata": {},
   "source": [
    "### Jim's Correlation Section Goes Here"
   ]
  },
  {
   "cell_type": "code",
   "execution_count": null,
   "id": "e4f1d56b",
   "metadata": {},
   "outputs": [],
   "source": [
    "# Correlate Box Office v Awards / nominations"
   ]
  },
  {
   "cell_type": "code",
   "execution_count": null,
   "id": "65e30970",
   "metadata": {},
   "outputs": [],
   "source": [
    "# option:  Correlate Box Office v MPAA Rating"
   ]
  },
  {
   "cell_type": "markdown",
   "id": "ba8fc125",
   "metadata": {},
   "source": [
    "### Steve's Correlation Section Goes Here"
   ]
  },
  {
   "cell_type": "code",
   "execution_count": null,
   "id": "6b2d9a6c",
   "metadata": {},
   "outputs": [],
   "source": [
    "# option  Correlate Box Office v MPAA Rating\n",
    "#genre"
   ]
  },
  {
   "cell_type": "markdown",
   "id": "1080d8a2",
   "metadata": {},
   "source": [
    "### BONUS: Perform t-test across movie genres"
   ]
  },
  {
   "cell_type": "code",
   "execution_count": null,
   "id": "3e1ae24a",
   "metadata": {},
   "outputs": [],
   "source": [
    "# option: Steve performs t-test across movie genre \n",
    "# and Jim does both Awards & MPAA Rating correlations"
   ]
  }
 ],
 "metadata": {
  "kernelspec": {
   "display_name": "Python 3",
   "language": "python",
   "name": "python3"
  },
  "language_info": {
   "codemirror_mode": {
    "name": "ipython",
    "version": 3
   },
   "file_extension": ".py",
   "mimetype": "text/x-python",
   "name": "python",
   "nbconvert_exporter": "python",
   "pygments_lexer": "ipython3",
   "version": "3.8.8"
  }
 },
 "nbformat": 4,
 "nbformat_minor": 5
}
