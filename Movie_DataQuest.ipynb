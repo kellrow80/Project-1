{
 "cells": [
  {
   "cell_type": "markdown",
   "id": "62c49f31",
   "metadata": {},
   "source": [
    "# Movie_DataQuest - Search For The Best Single Factor"
   ]
  },
  {
   "cell_type": "code",
   "execution_count": null,
   "id": "1e6ede66",
   "metadata": {},
   "outputs": [],
   "source": [
    "# Dependencies\n",
    "import requests\n",
    "from config import api_key"
   ]
  },
  {
   "cell_type": "markdown",
   "id": "0daa5b80",
   "metadata": {},
   "source": [
    "### Project description and outline:\n",
    "\n",
    "Description: How do various movie characteristics affect movie success?\n",
    "\n",
    "Definition of Success:  Total Box Office Receipts\n",
    "\n",
    "Characteristics Considered: \n",
    "  - Genre\n",
    "  - Run time\n",
    "  - Budget\n",
    "  - Critical reviews\n",
    "  - User reviews\n",
    "  - Awards / nominations\n",
    "  - MPAA Rating\n",
    "\n",
    "Hypothesis: The closer box office receipts correlate with the various movie characteristics, \n",
    "the stronger the influence of the given characteristic on movie success.\n",
    "\n"
   ]
  },
  {
   "cell_type": "markdown",
   "id": "27c7bb60",
   "metadata": {},
   "source": [
    "### Steve's Code Goes Here"
   ]
  },
  {
   "cell_type": "markdown",
   "id": "2bf62b02",
   "metadata": {},
   "source": [
    "### Introduction to IMDb Database Preperation   \n",
    "Movie Data Sets Utilized:  Internet Movie Database (IMDb) & Online Media Database (OMDb).\n",
    "\n",
    "The IMDb contains a greater range of quantified movie characteristics than does the OMDb.  For \n",
    "this reason the IMDb was used to provide the bulk of our testing criteria.  In order to limit \n",
    "the scope of the data we pulled only information regarding movies that were feature-length, \n",
    "non-\"adult\", and were released between 2000 and 2019.\n"
   ]
  },
  {
   "cell_type": "code",
   "execution_count": null,
   "id": "6622dfa2",
   "metadata": {},
   "outputs": [],
   "source": [
    "#Get MovieLens IMDB data"
   ]
  },
  {
   "cell_type": "code",
   "execution_count": null,
   "id": "b48a7300",
   "metadata": {},
   "outputs": [],
   "source": [
    "# Get TMDB data especially with respect to box office "
   ]
  },
  {
   "cell_type": "code",
   "execution_count": null,
   "id": "afaeb829",
   "metadata": {},
   "outputs": [],
   "source": [
    "# Merge MovieLens with TMDB"
   ]
  },
  {
   "cell_type": "markdown",
   "id": "bfcecd0b",
   "metadata": {},
   "source": [
    "#### Conclusion/Segway\n",
    "The size of the IMDb data set was....   And contained Genre, Run time, Budget, Critical Reviews, User Review, Awards/Nominations and MPAA Ratings.\n",
    "\n",
    "After the database was acquired and cleaned it was merged with a sample of movies from the OM"
   ]
  },
  {
   "cell_type": "markdown",
   "id": "49aabc0f",
   "metadata": {},
   "source": [
    "### Jim's Code Goes Here"
   ]
  },
  {
   "cell_type": "markdown",
   "id": "90ffff9b",
   "metadata": {},
   "source": [
    "## IMDB Preparation:\n",
    "    \n",
    "Although the IMDb does not contain some of the movie characteristics we wished to test, it does contain\n",
    "the box office information required for our analysis.  We will take a 900 movie sample from the IMDb and\n",
    "merge it with matching movie information in the OMDb database to form the basis of our analysis."
   ]
  },
  {
   "cell_type": "code",
   "execution_count": null,
   "id": "3a28f16d",
   "metadata": {},
   "outputs": [],
   "source": [
    "# Get 900 random movie sample from the OMDB"
   ]
  },
  {
   "cell_type": "code",
   "execution_count": null,
   "id": "21ef639e",
   "metadata": {},
   "outputs": [],
   "source": [
    "# Create CSV and dataframe"
   ]
  },
  {
   "cell_type": "markdown",
   "id": "3b1c9e7b",
   "metadata": {},
   "source": [
    "#### Conclusion/Segway\n",
    "The size of the IMDb data set was....   And contained Genre, Run time, Budget, Critical Reviews, User Review, Awards/Nominations and MPAA Ratings.\n",
    "\n",
    "Once our dataset was established we were ready to run our analysis.\n",
    "\n",
    "Segway to Box Office vs. Runtime Correlations (Kelly's stuff)"
   ]
  },
  {
   "cell_type": "markdown",
   "id": "ab5223cf",
   "metadata": {},
   "source": [
    "### Kelly's Code Here"
   ]
  },
  {
   "cell_type": "markdown",
   "id": "bbf0022c",
   "metadata": {},
   "source": [
    "## Box Office vs. Runtime Correlations\n",
    "In completing the box office/runtime correlation we had the following considerations....\n",
    "and face certain issues in cleaning the data, etc. etc. ..."
   ]
  },
  {
   "cell_type": "code",
   "execution_count": null,
   "id": "5d735c6e",
   "metadata": {},
   "outputs": [],
   "source": [
    "# Correlate Box Office v. Run time"
   ]
  },
  {
   "cell_type": "code",
   "execution_count": null,
   "id": "cf3931b8",
   "metadata": {},
   "outputs": [],
   "source": [
    "# Correlate Box Office v. Budget\n",
    "\n",
    "Awards / nominations\n",
    "MPAA Rating\n"
   ]
  },
  {
   "cell_type": "markdown",
   "id": "afabfbc5",
   "metadata": {},
   "source": [
    "#### Conclusion/Segway\n",
    "Conclusios about MPAA Rating analysis\n",
    "Box Office vs. Critical Review's (Phillips' stuff)\n"
   ]
  },
  {
   "cell_type": "markdown",
   "id": "fa3f9c23",
   "metadata": {},
   "source": [
    "### Philips' Code Goes Here"
   ]
  },
  {
   "cell_type": "markdown",
   "id": "032a26fa",
   "metadata": {},
   "source": [
    "## Box Office vs. Critical Reviews \n",
    "In completing the box critica reviews we had the following considerations....\n",
    "and face certain issues in cleaning the data, etc. etc. ..."
   ]
  },
  {
   "cell_type": "code",
   "execution_count": null,
   "id": "b56cf14c",
   "metadata": {},
   "outputs": [],
   "source": [
    "# Correlate Box Office v. Critical reviews"
   ]
  },
  {
   "cell_type": "code",
   "execution_count": null,
   "id": "94b66aa8",
   "metadata": {},
   "outputs": [],
   "source": [
    "# Correlate Box Office v. User reviews"
   ]
  },
  {
   "cell_type": "markdown",
   "id": "23b8ed0c",
   "metadata": {},
   "source": [
    "#### Conclusion/Segway\n",
    "Conclusios with  with Critical & User reviews analysis\n",
    "Segway to Awards / Nominations (Jim's Stuff).\n",
    "\n",
    "\n"
   ]
  },
  {
   "cell_type": "markdown",
   "id": "839de493",
   "metadata": {},
   "source": [
    "### Jim's Correlation Section Goes Here"
   ]
  },
  {
   "cell_type": "markdown",
   "id": "55e3cd88",
   "metadata": {},
   "source": [
    "## Box Office vs. Awards / Nominations\n",
    "In completing the box office vs. awards / nominations we had the following considerations....\n",
    "and face certain issues in cleaning the data, etc. etc. ..."
   ]
  },
  {
   "cell_type": "code",
   "execution_count": null,
   "id": "e4f1d56b",
   "metadata": {},
   "outputs": [],
   "source": [
    "# Correlate Box Office v Awards / nominations"
   ]
  },
  {
   "cell_type": "code",
   "execution_count": null,
   "id": "65e30970",
   "metadata": {},
   "outputs": [],
   "source": [
    "# option:  Correlate Box Office "
   ]
  },
  {
   "cell_type": "markdown",
   "id": "1ed539ea",
   "metadata": {},
   "source": [
    "#### Conclusion/Segway\n",
    "Conclusios with  with Awards/Nominations analysis\n",
    "Segway linear regression to T-testing final variables."
   ]
  },
  {
   "cell_type": "code",
   "execution_count": null,
   "id": "92604128",
   "metadata": {},
   "outputs": [],
   "source": []
  },
  {
   "cell_type": "markdown",
   "id": "910f5f24",
   "metadata": {},
   "source": [
    "## Steve's T-test (Chi Square? ANOVA?)\n",
    "I looked at movie genres & MPAA ratings.  With genres we look at \n",
    "correlations across cataegories and thus performed a different analysis\n",
    "that linear regression correlations..."
   ]
  },
  {
   "cell_type": "code",
   "execution_count": null,
   "id": "3e1ae24a",
   "metadata": {},
   "outputs": [],
   "source": [
    "# option: Steve performs t-test across movie genre \n",
    "# and Jim does both Awards & MPAA Rating correlations"
   ]
  },
  {
   "cell_type": "markdown",
   "id": "956042fc",
   "metadata": {},
   "source": [
    "#### Conclusion/Segway\n",
    "Conclusions of genre and MPAA analysis\n",
    "Segway to project conclusion"
   ]
  },
  {
   "cell_type": "markdown",
   "id": "86d738fe",
   "metadata": {},
   "source": [
    "## Project Conclusion\n",
    "In completing the box office vs. awards / nominations we had the following considerations....\n",
    "and face certain issues in cleaning the data, etc. etc. ..."
   ]
  }
 ],
 "metadata": {
  "kernelspec": {
   "display_name": "Python 3",
   "language": "python",
   "name": "python3"
  },
  "language_info": {
   "codemirror_mode": {
    "name": "ipython",
    "version": 3
   },
   "file_extension": ".py",
   "mimetype": "text/x-python",
   "name": "python",
   "nbconvert_exporter": "python",
   "pygments_lexer": "ipython3",
   "version": "3.8.8"
  }
 },
 "nbformat": 4,
 "nbformat_minor": 5
}
