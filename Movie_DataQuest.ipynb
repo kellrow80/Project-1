{
 "cells": [
  {
   "cell_type": "markdown",
   "id": "62c49f31",
   "metadata": {},
   "source": [
    "# Movie_DataQuest - Search For The Best Single Factor"
   ]
  },
  {
   "cell_type": "code",
   "execution_count": null,
   "id": "1e6ede66",
   "metadata": {},
   "outputs": [],
   "source": [
    "# Dependencies\n",
    "import pandas as pd\n",
    "import requests\n",
    "import json\n",
    "from pprint import pprint\n",
    "import matplotlib.pyplot as plt\n",
    "from scipy.stats import linregress\n",
    "import random\n",
    "import numpy as np\n",
    "from config import api_key_txt\n",
    "from config import tmdb_api_key"
   ]
  },
  {
   "cell_type": "markdown",
   "id": "0daa5b80",
   "metadata": {},
   "source": [
    "### Project description and outline:\n",
    "\n",
    "Description: How do various movie characteristics affect movie success?\n",
    "\n",
    "Definition of Success:  Total U.S. Box Office Receipts\n",
    "\n",
    "Characteristics Considered: \n",
    "  - Genre\n",
    "  - Run time\n",
    "  - Budget\n",
    "  - Critical reviews\n",
    "  - User reviews\n",
    "  - Awards / nominations\n",
    "  - MPAA Rating\n",
    "\n",
    "Hypothesis: The closer box office receipts correlate with the various movie characteristics, \n",
    "the stronger the influence of the given characteristic on movie success.\n",
    "\n"
   ]
  },
  {
   "cell_type": "markdown",
   "id": "27c7bb60",
   "metadata": {},
   "source": [
    "### Steve's Code Goes Here"
   ]
  },
  {
   "cell_type": "markdown",
   "id": "2bf62b02",
   "metadata": {},
   "source": [
    "### Introduction to IMDb Database Preperation   \n",
    "Movie Data Sets Utilized:  Internet Movie Database (IMDb) & Online Media Database (OMDb).\n",
    "\n",
    "The IMDb contains a greater range of quantified movie characteristics than does the OMDb.  For \n",
    "this reason the IMDb was used to provide the bulk of our testing criteria.  In order to limit \n",
    "the scope of the data we pulled only information regarding movies that were feature-length, \n",
    "non-\"adult\", and were released between 2000 and 2019.\n"
   ]
  },
  {
   "cell_type": "code",
   "execution_count": null,
   "id": "dc556bb7",
   "metadata": {},
   "outputs": [],
   "source": [
    "### INITIAL DATA SET ###\n",
    "\n",
    "# Our first data set is a CSV of film data derived from the data available at https://www.imdb.com/interfaces/. \n",
    "# It contains feature-length films released between 2000 and 2019.\n",
    "\n",
    "# Importing this CSV as a dataframe\n",
    "\n",
    "imdb_csv = \"Resources/trimmed_IMDB_data.csv\"\n",
    "imdb_df = pd.read_csv(imdb_csv, encoding=\"UTF-8\")\n",
    "\n",
    "imdb_df"
   ]
  },
  {
   "cell_type": "code",
   "execution_count": null,
   "id": "6622dfa2",
   "metadata": {},
   "outputs": [],
   "source": [
    "### REFINING DATA SET ###\n",
    "\n",
    "# Our IMDB data contains hundreds of thousands of movies, many of which had no theatrical release.\n",
    "# We will combine this data with data constructed from https://movielens.org/, which focuses on released films.\n",
    "\n",
    "# Importing movielens CSV as a dataframe\n",
    "\n",
    "movielens_csv = \"Resources/movielens_links.csv\"\n",
    "movielens_df =  pd.read_csv(movielens_csv, encoding=\"UTF-8\")\n",
    "\n",
    "movielens_df"
   ]
  },
  {
   "cell_type": "code",
   "execution_count": null,
   "id": "cbd5faf5",
   "metadata": {},
   "outputs": [],
   "source": [
    "# Combining the dataframes to find films that are in both\n",
    "\n",
    "# Renaming themovielens_df \"imdbTTID\" column to match our imdb_df\n",
    "\n",
    "movielens_df = movielens_df.rename(columns={\"imdbTTID\": \"tconst\"})\n",
    "\n",
    "# Merging dataframes\n",
    "\n",
    "big_df = imdb_df.merge(movielens_df, how=\"inner\")\n",
    "\n",
    "big_df\n"
   ]
  },
  {
   "cell_type": "code",
   "execution_count": null,
   "id": "27fd0571",
   "metadata": {},
   "outputs": [],
   "source": [
    "### GETTING ADDITIONAL DATA FROM TMDB ###\n",
    "\n",
    "# Selecting a sample of films for the TMDB API call\n",
    "\n",
    "# Assigning random number\n",
    "for index, row in big_df.iterrows():\n",
    "    random.seed(index)\n",
    "    big_df.loc[index, \"randomNumber\"] = random.random()"
   ]
  },
  {
   "cell_type": "code",
   "execution_count": null,
   "id": "6c4f6075",
   "metadata": {},
   "outputs": [],
   "source": [
    "# Sorting by random number to randomize\n",
    "big_df = big_df.sort_values(\"randomNumber\")\n",
    "\n",
    "# Trimming to 5,000 entries\n",
    "\n",
    "smaller_df = pd.DataFrame(big_df[:5000])\n",
    "\n",
    "smaller_df"
   ]
  },
  {
   "cell_type": "code",
   "execution_count": null,
   "id": "b48a7300",
   "metadata": {},
   "outputs": [],
   "source": [
    "# Pulling additional data via a TMDB API call\n",
    "\n",
    "# Setting base URL\n",
    "url = \"https://api.themoviedb.org/3/movie/\"\n",
    "\n",
    "# Looping through dataframe\n",
    "for index, row in smaller_df.iterrows():\n",
    "    movie_id = row[\"tmdbId\"]\n",
    "    \n",
    "    full_url = url + str(movie_id) + \"?api_key=\" + tmdb_api_key\n",
    "    movie_data = requests.get(full_url).json()\n",
    "\n",
    "#Setting up error handling and adding data to dataframe\n",
    "\n",
    "    try:\n",
    "        smaller_df.loc[index, \"Budget\"] = movie_data[\"budget\"]\n",
    "    except:\n",
    "        smaller_df.loc[index, \"Budget\"] = \"N/A\"\n",
    "        \n",
    "    try:\n",
    "        smaller_df.loc[index, \"Box Office\"] = movie_data[\"revenue\"]\n",
    "    except:\n",
    "        smaller_df.loc[index, \"Box Office\"] = \"N/A\"\n",
    "    \n",
    "smaller_df"
   ]
  },
  {
   "cell_type": "code",
   "execution_count": null,
   "id": "afaeb829",
   "metadata": {},
   "outputs": [],
   "source": [
    "### TRIMMING DATA FOR OMDB API CALLS ###\n",
    "\n",
    "# Trimming dataframe to only items with Box Office data\n",
    "\n",
    "boxoffice_df = smaller_df[smaller_df[\"Box Office\"] != \"N/A\"]\n",
    "boxoffice_df = boxoffice_df[boxoffice_df[\"Box Office\"] != 0.0]\n",
    "\n",
    "# Recasting Budget and Box Office as integers\n",
    "\n",
    "boxoffice_df[['Budget', 'Box Office']] = boxoffice_df[['Budget', 'Box Office']].astype(int)\n",
    "\n",
    "# Replacing missing values with Nan\n",
    "\n",
    "boxoffice_df.replace(0, np.nan, inplace=True)\n",
    "\n",
    "boxoffice_df"
   ]
  },
  {
   "cell_type": "code",
   "execution_count": null,
   "id": "ef75ff2a",
   "metadata": {},
   "outputs": [],
   "source": [
    "# Reducing to 900 items\n",
    "\n",
    "sample_df = pd.DataFrame(boxoffice_df[:900])\n",
    "\n",
    "# Exporting as CSV to preserve data between uses\n",
    "\n",
    "sample_df.to_csv(\"Resources/sample.csv\",index=False)"
   ]
  },
  {
   "cell_type": "code",
   "execution_count": null,
   "id": "7f79ac2e",
   "metadata": {},
   "outputs": [],
   "source": [
    "# Importing new dataframe from CSV to preserve data between uses\n",
    "\n",
    "omdb_csv = \"Resources/sample.csv\"\n",
    "omdb_api_df = pd.read_csv(omdb_csv, encoding=\"UTF-8\")\n",
    "\n",
    "omdb_api_df"
   ]
  },
  {
   "cell_type": "markdown",
   "id": "bfcecd0b",
   "metadata": {},
   "source": [
    "#### Conclusion/Segway\n",
    "The size of the IMDb data set was....   And contained Genre, Run time, Budget, Critical Reviews, User Review, Awards/Nominations and MPAA Ratings.\n",
    "\n",
    "After the database was acquired and cleaned it was merged with a sample of movies from the OM"
   ]
  },
  {
   "cell_type": "markdown",
   "id": "49aabc0f",
   "metadata": {},
   "source": [
    "### Jim's Code Goes Here"
   ]
  },
  {
   "cell_type": "markdown",
   "id": "90ffff9b",
   "metadata": {},
   "source": [
    "## OMDB Preparation:\n",
    "    \n",
    "Although the IMDb does not contain some of the movie characteristics we wished to test, it does contain\n",
    "the box office information required for our analysis.  We will take a 900 movie sample from the IMDb and\n",
    "merge it with matching movie information in the OMDb database to form the basis of our analysis."
   ]
  },
  {
   "cell_type": "code",
   "execution_count": null,
   "id": "2c5b778e",
   "metadata": {},
   "outputs": [],
   "source": [
    "# # Get a list of IMDB ids \n",
    "movie_ids = omdb_api_df['tconst'].tolist()\n",
    "movie_ids"
   ]
  },
  {
   "cell_type": "code",
   "execution_count": null,
   "id": "2542768e",
   "metadata": {},
   "outputs": [],
   "source": [
    "tconst = []\n",
    "rated = []\n",
    "metascore =[]\n",
    "imdb_rating = []\n",
    "imdb_votes = []\n",
    "rotten_tomatoes = []\n",
    "\n",
    "\n",
    "# 'tt0090605', 'tt1285016'"
   ]
  },
  {
   "cell_type": "code",
   "execution_count": null,
   "id": "3a28f16d",
   "metadata": {},
   "outputs": [],
   "source": [
    "# movie we want to search for.\n",
    "url = \"http://www.omdbapi.com/?i=\"\n",
    "api_key_tx = \"&apikey=\" + api_key_txt\n",
    "# response = requests.get(url+api_key_tx).json()\n",
    "# print(json.dumps(response, indent=4, sort_keys=True))"
   ]
  },
  {
   "cell_type": "code",
   "execution_count": null,
   "id": "21ef639e",
   "metadata": {},
   "outputs": [],
   "source": [
    "# Performing a GET request\n",
    "\n",
    "for id in movie_ids[0:10]:\n",
    "    \n",
    "    response = requests.get(url + id +  api_key_tx)\n",
    "    data = response.json()\n",
    "    tconst.append(id)\n",
    "        \n",
    "        \n",
    "    try:\n",
    "        rated.append(data['Rated'])\n",
    "    except:\n",
    "        rated.append('N/A')\n",
    "\n",
    "    try:\n",
    "        metascore.append(data['Metascore'])\n",
    "    except:\n",
    "        metascore.append('N/A')\n",
    "\n",
    "    try:\n",
    "        imdb_rating.append(data['imdbRating'])\n",
    "    except:\n",
    "        imdb_rating.append('N/A')\n",
    "\n",
    "    try:\n",
    "        imdb_votes.append(data['imdbVotes'])\n",
    "    except:\n",
    "        imdb_votes.append('N/A')\n",
    "\n",
    "    rIndex = 0\n",
    "    rDone = 0\n",
    "    rtScore = \"\"\n",
    "    try:\n",
    "        for x in data['Ratings']:\n",
    "            if data[\"Ratings\"][rIndex][\"Source\"] == \"Rotten Tomatoes\":\n",
    "                rtScore = data['Ratings'][rIndex][\"Value\"]\n",
    "                rIndex += 1\n",
    "                rDone = 1\n",
    "            else:\n",
    "                if rDone == 0:\n",
    "                    rIndex += 1\n",
    "                    rtScore = 'N/A'\n",
    "                else:\n",
    "                    pass\n",
    "        rotten_tomatoes.append(rtScore)\n",
    "        \n",
    "    except:\n",
    "        rotten_tomatoes.append('N/A')\n",
    "        \n"
   ]
  },
  {
   "cell_type": "code",
   "execution_count": null,
   "id": "169d06ee",
   "metadata": {},
   "outputs": [],
   "source": [
    "# Create new DataFrame\n",
    "\n",
    "movie_df = pd.DataFrame({'tconst' : tconst, 'Rated' : rated, 'Metascore' :  metascore) 'IMDB Rating' : imdb_rating, \n",
    "                         'IMDB Votes' : imdb_votes, \"Rotten Tomatoes\" : rotten_tomatoes })\n",
    "                         \n",
    "movie_df.dtypes\n"
   ]
  },
  {
   "cell_type": "code",
   "execution_count": null,
   "id": "a9e8a7cf",
   "metadata": {},
   "outputs": [],
   "source": [
    "# Merge movie_df with omdb_api_df to get 900 movies by IMDB ID\n",
    "movie_sample = pd.merge(omdb_api_df, movie_df, on = \"tconst\")\n",
    "movie_sample"
   ]
  },
  {
   "cell_type": "markdown",
   "id": "3b1c9e7b",
   "metadata": {},
   "source": [
    "#### Conclusion/Segway\n",
    "The size of the IMDb data set was....   And contained Genre, Run time, Budget, Critical Reviews, User Review, Awards/Nominations and MPAA Ratings.\n",
    "\n",
    "Once our dataset was established we were ready to run our analysis.\n",
    "\n",
    "Segway to Box Office vs. Runtime Correlations (Kelly's stuff)"
   ]
  },
  {
   "cell_type": "markdown",
   "id": "ab5223cf",
   "metadata": {},
   "source": [
    "### Kelly's Code Here"
   ]
  },
  {
   "cell_type": "markdown",
   "id": "bbf0022c",
   "metadata": {},
   "source": [
    "## Box Office vs. Runtime Correlations\n",
    "In completing the box office/runtime correlation we had the following considerations....\n",
    "and face certain issues in cleaning the data, etc. etc. ..."
   ]
  },
  {
   "cell_type": "code",
   "execution_count": null,
   "id": "7d1204b9",
   "metadata": {},
   "outputs": [],
   "source": [
    "test_data_df = pd.DataFrame({\"Movie Title\": [\"Ghostbusters\", \"Ghostbusters II\", \"Hocus Pocus\"],\n",
    "                             \"Run Time\": [\"100\", \"110\", \"120\"],\n",
    "                             \"Box Office Sales\": [\"200\", \"250\", \"300\"],\n",
    "                             \"Budget\": [\"150\", \"250\", \"350\"]})\n",
    "test_data_df\n"
   ]
  },
  {
   "cell_type": "code",
   "execution_count": null,
   "id": "5d735c6e",
   "metadata": {},
   "outputs": [],
   "source": [
    "# Correlate Box Office v. Run time\n",
    "\n",
    "\n",
    "x_values = test_data_df[\"Box Office Sales\"]\n",
    "y_values = test_data_df[\"Run Time\"]\n",
    "plt.xlabel(\"Box Office Sales\")\n",
    "plt.ylabel(\"Movie Run Time (in minutes)\")\n",
    "plt.title(\"Movie Run time vs Box Office Sales\")\n",
    "plt.scatter(x_values, y_values, marker = \"o\", facecolors = \"purple\", edgecolors=\"black\")\n",
    "\n",
    "plt.show()\n"
   ]
  },
  {
   "cell_type": "code",
   "execution_count": null,
   "id": "740461b5",
   "metadata": {},
   "outputs": [],
   "source": [
    "x_values = test_data_df[\"Box Office Sales\"]\n",
    "y_values = test_data_df[\"Run Time\"]\n",
    "plt.xlabel(\"Box Office Sales\")\n",
    "plt.ylabel(\"Movie Run Time (in minutes)\")\n",
    "plt.title(\"Movie Run Time vs Box Office Sales\")\n",
    "plt.scatter(x_values, y_values, marker = \"o\", facecolors = \"purple\", edgecolors=\"black\")\n",
    "\n",
    "(slope, intercept, rvalue, pvalue, stderr) = linregress(x_values, y_values)\n",
    "regress_values = x_values * slope + intercept\n",
    "\n",
    "line_eq = \"y = \" + str(round(slope,2)) + \"x +\" + str(round(intercept,2))\n",
    "\n",
    "plt.scatter(x_values, y_values, marker = \"o\", facecolors=\"purple\", edgecolors=\"black\")\n",
    "plt.plot(x_values,regress_values,\"r-\")\n",
    "\n",
    "\n",
    "plt.xlabel(\"Box Office Sales\")\n",
    "plt.ylabel(\"Movie Run Time\")\n",
    "plt.title(\"Movie Run Time vs Box Office Sales\")\n",
    "plt.annotate(line_eq,(10,15),fontsize=15,color=\"red\")\n",
    "\n",
    "\n",
    "print(f\"The r-value is: {rvalue**2}\")\n",
    "\n",
    "\n",
    "plt.show()"
   ]
  },
  {
   "cell_type": "code",
   "execution_count": null,
   "id": "cf3931b8",
   "metadata": {},
   "outputs": [],
   "source": [
    "# Correlate Box Office v. Budget\n",
    "\n",
    "x_values = test_data_df[\"Box Office Sales\"]\n",
    "y_values = test_data_df[\"Budget\"]\n",
    "plt.xlabel(\"Box Office Sales\")\n",
    "plt.ylabel(\"Movie Budget Amount\")\n",
    "plt.title(\"Movie Budget Amount vs Box Office Sales\")\n",
    "plt.scatter(x_values, y_values, marker = \"o\", facecolors = \"green\", edgecolors=\"black\")\n",
    "\n",
    "plt.show()\n",
    "\n",
    "# Awards / nominations\n",
    "# MPAA Rating\n"
   ]
  },
  {
   "cell_type": "code",
   "execution_count": null,
   "id": "4b488169",
   "metadata": {},
   "outputs": [],
   "source": [
    "x_values = test_data_df[\"Box Office Sales\"]\n",
    "y_values = test_data_df[\"Budget\"]\n",
    "plt.xlabel(\"Box Office Sales\")\n",
    "plt.ylabel(\"Movie Budget Amount\")\n",
    "plt.title(\"Movie Budget Amount vs Box Office Sales\")\n",
    "plt.scatter(x_values, y_values, marker = \"o\", facecolors = \"green\", edgecolors=\"black\")\n",
    "\n",
    "(slope, intercept, rvalue, pvalue, stderr) = linregress(x_values, y_values)\n",
    "regress_values = x_values * slope + intercept\n",
    "\n",
    "line_eq = \"y = \" + str(round(slope,2)) + \"x +\" + str(round(intercept,2))\n",
    "\n",
    "plt.scatter(x_values, y_values, marker = \"o\", facecolors=\"green\", edgecolors=\"black\")\n",
    "plt.plot(x_values,regress_values,\"r-\")\n",
    "\n",
    "\n",
    "plt.xlabel(\"Box Office Sales\")\n",
    "plt.ylabel(\"Movie Run Time\")\n",
    "plt.title(\"Movie Run Time vs Box Office Sales\")\n",
    "plt.annotate(line_eq,(10,15),fontsize=15,color=\"red\")\n",
    "\n",
    "\n",
    "print(f\"The r-value is: {rvalue**2}\")\n",
    "\n",
    "\n",
    "plt.show()"
   ]
  },
  {
   "cell_type": "markdown",
   "id": "afabfbc5",
   "metadata": {},
   "source": [
    "#### Conclusion/Segway\n",
    "Conclusios about MPAA Rating analysis\n",
    "Box Office vs. Critical Review's (Phillips' stuff)\n"
   ]
  },
  {
   "cell_type": "markdown",
   "id": "fa3f9c23",
   "metadata": {},
   "source": [
    "### Philips' Code Goes Here"
   ]
  },
  {
   "cell_type": "markdown",
   "id": "032a26fa",
   "metadata": {},
   "source": [
    "## Box Office vs. Critical Reviews \n",
    "In completing the box critica reviews we had the following considerations....\n",
    "and face certain issues in cleaning the data, etc. etc. ..."
   ]
  },
  {
   "cell_type": "code",
   "execution_count": null,
   "id": "b56cf14c",
   "metadata": {},
   "outputs": [],
   "source": [
    "#Correlate Box Office v. Critical reviews\n",
    "movie_sample"
   ]
  },
  {
   "cell_type": "code",
   "execution_count": null,
   "id": "0cc8677d",
   "metadata": {},
   "outputs": [],
   "source": [
    "#Plot out box office versus critical reviews\n",
    "x_values = movie_sample['box office']\n",
    "y_values = movie_sample['metascore']\n",
    "\n",
    "plt.scatter(x_values, y_values)\n",
    "plt.xlabel(\"Box Office Sales\")\n",
    "plt.ylabel(\"Critical Reviews\")\n",
    "plt.title(\"Box Office Sales vs Critical Reviews\")\n",
    "\n",
    "plt.show()"
   ]
  },
  {
   "cell_type": "code",
   "execution_count": null,
   "id": "70584b55",
   "metadata": {},
   "outputs": [],
   "source": [
    "#Add the linear regression equation and line to plot\n",
    "x_values = movie_sample['box office'']\n",
    "y_values = movie_sammple['metascore']\n",
    "\n",
    "(slope, intercept, rvalue, pvalue, stderr) = linregress(x_values, y_values)\n",
    "regress_values = x_values * slope + intercept\n",
    "line_eq = \"y = \" + str(round(slope,2)) + \"x +\" + str(round(intercept,2))\n",
    "\n",
    "plt.scatter(x_values, y_values)\n",
    "plt.plot(x_values,regress_values,\"r-\")\n",
    "\n",
    "plt.xlabel(\"Box Office Sales\")\n",
    "plt.ylabel(\"Critical Reviews\")\n",
    "plt.title(\"Box Office Sales vs Critical Reviews\")\n",
    "#plt.annotate(line_eq,(10,15),fontsize=15,color=\"red\")\n",
    "#print(f\"The r-value is: {rvalue**2}\")\n",
    "\n",
    "plt.show()\n"
   ]
  },
  {
   "cell_type": "code",
   "execution_count": null,
   "id": "94b66aa8",
   "metadata": {},
   "outputs": [],
   "source": [
    "#Correlate Box Office vs. User reviews\n",
    "\n",
    "#Plot out box office versus user reviews\n",
    "x_values = movie_sample['box office']\n",
    "y_values = movie_sample['imdb rating']\n",
    "\n",
    "plt.scatter(x_values, y_values)\n",
    "plt.xlabel(\"Box Office Sales\")\n",
    "plt.ylabel(\"User Reviews)\n",
    "plt.title(\"Box Office Sales vs. User Reviews\")\n",
    "\n",
    "plt.show()"
   ]
  },
  {
   "cell_type": "code",
   "execution_count": null,
   "id": "dd57dd3e",
   "metadata": {},
   "outputs": [],
   "source": [
    "#Add the linear regression equation and line to plot\n",
    "x_values = movie_sample['box office'']\n",
    "y_values = movie_sample['imdb rating']\n",
    "\n",
    "(slope, intercept, rvalue, pvalue, stderr) = linregress(x_values, y_values)\n",
    "regress_values = x_values * slope + intercept\n",
    "line_eq = \"y = \" + str(round(slope,2)) + \"x +\" + str(round(intercept,2))\n",
    "\n",
    "plt.scatter(x_values, y_values)\n",
    "plt.plot(x_values,regress_values,\"r-\")\n",
    "\n",
    "plt.xlabel(\"Box Office Sales\")\n",
    "plt.ylabel(\"User Reviews\")\n",
    "plt.title(\"Box Office Sales vs User Reviews\")\n",
    "#plt.annotate(line_eq,(10,15),fontsize=15,color=\"red\")\n",
    "#print(f\"The r-value is: {rvalue**2}\")\n",
    "\n",
    "plt.show()"
   ]
  },
  {
   "cell_type": "markdown",
   "id": "23b8ed0c",
   "metadata": {},
   "source": [
    "#### Conclusion/Segway\n",
    "Conclusios with  with Critical & User reviews analysis\n",
    "Segway to Awards / Nominations (Jim's Stuff).\n",
    "\n",
    "\n"
   ]
  },
  {
   "cell_type": "markdown",
   "id": "839de493",
   "metadata": {},
   "source": [
    "### Jim's Correlation Section Goes Here"
   ]
  },
  {
   "cell_type": "markdown",
   "id": "55e3cd88",
   "metadata": {},
   "source": [
    "## Box Office vs. Awards / Nominations\n",
    "In completing the box office vs. awards / nominations we had the following considerations....\n",
    "and face certain issues in cleaning the data, etc. etc. ..."
   ]
  },
  {
   "cell_type": "code",
   "execution_count": null,
   "id": "32f2c941",
   "metadata": {},
   "outputs": [],
   "source": [
    "x_values = float(movie_sample[\"IMDB Rating\"])\n",
    "y_values = float(movie_sample[\"Box Office\"])\n",
    "plt.xlabel(\"IMDB Ratings\")\n",
    "plt.ylabel(\"Box Office Receipts ($)\")\n",
    "plt.title(\"IMDB Rating vs Box Office Sales\")\n",
    "plt.scatter(x_values, y_values, marker = \"o\", facecolors = \"purple\", edgecolors=\"black\")\n",
    "\n",
    "plt.show()"
   ]
  },
  {
   "cell_type": "code",
   "execution_count": null,
   "id": "8cd24327",
   "metadata": {},
   "outputs": [],
   "source": [
    "# Do linear Regression and plot\n",
    "\n",
    "x_values = movie_sample[\"IMDB Rating\"]\n",
    "y_values = movie_sample[\"Box Office\"]\n",
    "plt.xlabel(\"IMDB Ratings\")\n",
    "plt.ylabel(\"Box Office Receipts ($)\")\n",
    "plt.title(\"IMDB Rating vs Box Office Sales\")\n",
    "plt.scatter(x_values, y_values, marker = \"o\", facecolors = \"purple\", edgecolors=\"black\")\n",
    "\n",
    "(slope, intercept, rvalue, pvalue, stderr) = linregress(x_values, y_values)\n",
    "regress_values = x_values * slope + intercept\n",
    "\n",
    "line_eq = \"y = \" + str(round(slope,2)) + \"x +\" + str(round(intercept,2))\n",
    "\n",
    "plt.scatter(x_values, y_values, marker = \"o\", facecolors=\"purple\", edgecolors=\"black\")\n",
    "plt.plot(x_values,regress_values,\"r-\")\n",
    "\n",
    "\n",
    "plt.xlabel(\"IMDB Rating (ratings from 0 to 10)\")\n",
    "plt.ylabel(\"Box Office Receipts\")\n",
    "plt.title(\"IMDB Rating vs Box Office Receipts\")\n",
    "plt.annotate(line_eq,(10,15),fontsize=15,color=\"red\")\n",
    "\n",
    "\n",
    "print(f\"The r-value is: {rvalue**2}\")\n",
    "\n",
    "\n",
    "plt.show()\n"
   ]
  },
  {
   "cell_type": "code",
   "execution_count": null,
   "id": "d296aed9",
   "metadata": {},
   "outputs": [],
   "source": [
    "# Correlate Box Office v. IMDB Votes\n",
    "\n",
    "x_values = movie_sample[\"IMDB Votes\"]\n",
    "y_values = movie_sample[\"Box Office\"]\n",
    "plt.xlabel(\"IMDB Votes\")\n",
    "plt.xticks(rotation=45)\n",
    "plt.ylabel(\"Box Office Receipts ($)\")\n",
    "plt.title(\"IMBD Votes vs Box Office Sales\")\n",
    "plt.scatter(x_values, y_values, marker = \"o\", facecolors = \"purple\", edgecolors=\"black\")\n",
    "\n",
    "plt.show()\n",
    "\n"
   ]
  },
  {
   "cell_type": "code",
   "execution_count": null,
   "id": "06b38f6d",
   "metadata": {},
   "outputs": [],
   "source": [
    "# Do linear Regression and plot\n",
    "\n",
    "x_values = movie_sample[\"IMDB Votes\"]\n",
    "y_values = movie_sample[\"Box Office\"]\n",
    "plt.xlabel(\"IMDB Votes\")\n",
    "plt.xticks(rotation=45)\n",
    "plt.ylabel(\"Box Office Receipts ($)\")\n",
    "plt.title(\"IMBD Votes vs Box Office Sales\")\n",
    "plt.scatter(x_values, y_values, marker = \"0\", facecolors = \"purple\", edgecolors=\"black\")\n",
    "\n",
    "(slope, intercept, rvalue, pvalue, stderr) = linregress(x_values, y_values)\n",
    "regress_values = x_values * slope + intercept\n",
    "\n",
    "line_eq = \"y = \" + str(round(slope,2)) + \"x +\" + str(round(intercept,2))\n",
    "\n",
    "plt.scatter(x_values, y_values, marker = \"o\", facecolors=\"purple\", edgecolors=\"black\")\n",
    "plt.plot(x_values,regress_values,\"r-\")\n",
    "\n",
    "\n",
    "plt.xlabel(\"IMDB Votes)\")\n",
    "plt.ylabel(\"Box Office Receipts\")\n",
    "plt.title(\"IMDB Votes vs Box Office Receipts\")\n",
    "plt.annotate(line_eq,(10,15),fontsize=15,color=\"red\")\n",
    "\n",
    "\n",
    "print(f\"The r-value is: {rvalue**2}\")\n",
    "\n",
    "\n",
    "plt.show()"
   ]
  },
  {
   "cell_type": "markdown",
   "id": "1ed539ea",
   "metadata": {},
   "source": [
    "#### Conclusion/Segway\n",
    "Conclusios with  with Awards/Nominations analysis\n",
    "Segway linear regression to T-testing final variables."
   ]
  },
  {
   "cell_type": "markdown",
   "id": "910f5f24",
   "metadata": {},
   "source": [
    "## Steve's T-test (Chi Square? ANOVA?)\n",
    "I looked at movie genres & MPAA ratings.  With genres we look at \n",
    "correlations across cataegories and thus performed a different analysis\n",
    "that linear regression correlations..."
   ]
  },
  {
   "cell_type": "code",
   "execution_count": null,
   "id": "3e1ae24a",
   "metadata": {},
   "outputs": [],
   "source": [
    "# option: Steve performs t-test across movie genre \n",
    "# and Jim does both Awards & MPAA Rating correlations"
   ]
  },
  {
   "cell_type": "markdown",
   "id": "956042fc",
   "metadata": {},
   "source": [
    "#### Conclusion/Segway\n",
    "Conclusions of genre and MPAA analysis\n",
    "Segway to project conclusion"
   ]
  },
  {
   "cell_type": "markdown",
   "id": "86d738fe",
   "metadata": {},
   "source": [
    "## Project Conclusion\n",
    "In completing the box office vs. awards / nominations we had the following considerations....\n",
    "and face certain issues in cleaning the data, etc. etc. ..."
   ]
  }
 ],
 "metadata": {
  "kernelspec": {
   "display_name": "Python 3",
   "language": "python",
   "name": "python3"
  },
  "language_info": {
   "codemirror_mode": {
    "name": "ipython",
    "version": 3
   },
   "file_extension": ".py",
   "mimetype": "text/x-python",
   "name": "python",
   "nbconvert_exporter": "python",
   "pygments_lexer": "ipython3",
   "version": "3.8.8"
  }
 },
 "nbformat": 4,
 "nbformat_minor": 5
}
