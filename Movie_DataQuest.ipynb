{
 "cells": [
  {
   "cell_type": "markdown",
   "id": "62c49f31",
   "metadata": {},
   "source": [
    "# Movie_DataQuest - Search For The Best Single Factor"
   ]
  },
  {
   "cell_type": "code",
   "execution_count": null,
   "id": "1e6ede66",
   "metadata": {},
   "outputs": [],
   "source": [
    "# Dependencies\n",
    "import pandas as pd\n",
    "import requests\n",
    "import random\n",
    "import numpy as np\n",
    "from config import tmdb_api_key"
   ]
  },
  {
   "cell_type": "markdown",
   "id": "0daa5b80",
   "metadata": {},
   "source": [
    "### Project description and outline:\n",
    "\n",
    "Description: How do various movie characteristics affect movie success?\n",
    "\n",
    "Definition of Success:  Total Box Office Receipts\n",
    "\n",
    "Characteristics Considered: \n",
    "  - Genre\n",
    "  - Run time\n",
    "  - Budget\n",
    "  - Critical reviews\n",
    "  - User reviews\n",
    "  - Awards / nominations\n",
    "  - MPAA Rating\n",
    "\n",
    "Hypothesis: The closer box office receipts correlate with the various movie characteristics, \n",
    "the stronger the influence of the given characteristic on movie success.\n",
    "\n"
   ]
  },
  {
   "cell_type": "markdown",
   "id": "27c7bb60",
   "metadata": {},
   "source": [
    "### Steve's Code Goes Here"
   ]
  },
  {
   "cell_type": "markdown",
   "id": "2bf62b02",
   "metadata": {},
   "source": [
    "### Introduction to IMDb Database Preperation   \n",
    "Movie Data Sets Utilized:  Internet Movie Database (IMDb) & Online Media Database (OMDb).\n",
    "\n",
    "The IMDb contains a greater range of quantified movie characteristics than does the OMDb.  For \n",
    "this reason the IMDb was used to provide the bulk of our testing criteria.  In order to limit \n",
    "the scope of the data we pulled only information regarding movies that were feature-length, \n",
    "non-\"adult\", and were released between 2000 and 2019.\n"
   ]
  },
  {
   "cell_type": "code",
   "execution_count": null,
   "id": "dc556bb7",
   "metadata": {},
   "outputs": [],
   "source": [
    "### INITIAL DATA SET ###\n",
    "\n",
    "# Our first data set is a CSV of film data derived from the data available at https://www.imdb.com/interfaces/. It contains feature-length films released between 2000 and 2019.\n",
    "\n",
    "# Importing this CSV as a dataframe\n",
    "\n",
    "imdb_csv = \"Resources/trimmed_IMDB_data.csv\"\n",
    "imdb_df = pd.read_csv(imdb_csv, encoding=\"UTF-8\")\n",
    "\n",
    "imdb_df"
   ]
  },
  {
   "cell_type": "code",
   "execution_count": null,
   "id": "6622dfa2",
   "metadata": {},
   "outputs": [],
   "source": [
    "### REFINING DATA SET ###\n",
    "\n",
    "# Our IMDB data contains hundreds of thousands of movies, many of which had no theatrical release.\n",
    "# We will combine this data with data constructed from https://movielens.org/, which focuses on released films.\n",
    "\n",
    "# Importing movielens CSV as a dataframe\n",
    "\n",
    "movielens_csv = \"Resources/movielens_links.csv\"\n",
    "movielens_df =  pd.read_csv(movielens_csv, encoding=\"UTF-8\")\n",
    "\n",
    "movielens_df"
   ]
  },
  {
   "cell_type": "code",
   "execution_count": null,
   "id": "cbd5faf5",
   "metadata": {},
   "outputs": [],
   "source": [
    "# Combining the dataframes to find films that are in both\n",
    "\n",
    "# Renaming themovielens_df \"imdbTTID\" column to match our imdb_df\n",
    "\n",
    "movielens_df = movielens_df.rename(columns={\"imdbTTID\": \"tconst\"})\n",
    "\n",
    "# Merging dataframes\n",
    "\n",
    "big_df = imdb_df.merge(movielens_df, how=\"inner\")\n",
    "\n",
    "big_df\n"
   ]
  },
  {
   "cell_type": "code",
   "execution_count": null,
   "id": "27fd0571",
   "metadata": {},
   "outputs": [],
   "source": [
    "### GETTING ADDITIONAL DATA FROM TMDB ###\n",
    "\n",
    "# Selecting a sample of films for the TMDB API call\n",
    "\n",
    "# Assigning random number\n",
    "for index, row in big_df.iterrows():\n",
    "    random.seed(index)\n",
    "    big_df.loc[index, \"randomNumber\"] = random.random()"
   ]
  },
  {
   "cell_type": "code",
   "execution_count": null,
   "id": "6c4f6075",
   "metadata": {},
   "outputs": [],
   "source": [
    "# Sorting by random number to randomize\n",
    "big_df = big_df.sort_values(\"randomNumber\")\n",
    "\n",
    "# Trimming to 5,000 entries\n",
    "\n",
    "smaller_df = pd.DataFrame(big_df[:5000])\n",
    "\n",
    "smaller_df"
   ]
  },
  {
   "cell_type": "code",
   "execution_count": null,
   "id": "b48a7300",
   "metadata": {},
   "outputs": [],
   "source": [
    "# Pulling additional data via a TMDB API call\n",
    "\n",
    "# Setting base URL\n",
    "url = \"https://api.themoviedb.org/3/movie/\"\n",
    "\n",
    "# Looping through dataframe\n",
    "for index, row in smaller_df.iterrows():\n",
    "    movie_id = row[\"tmdbId\"]\n",
    "    \n",
    "    full_url = url + str(movie_id) + \"?api_key=\" + tmdb_api_key\n",
    "    movie_data = requests.get(full_url).json()\n",
    "\n",
    "#Setting up error handling and adding data to dataframe\n",
    "\n",
    "    try:\n",
    "        smaller_df.loc[index, \"Budget\"] = movie_data[\"budget\"]\n",
    "    except:\n",
    "        smaller_df.loc[index, \"Budget\"] = \"N/A\"\n",
    "        \n",
    "    try:\n",
    "        smaller_df.loc[index, \"Box Office\"] = movie_data[\"revenue\"]\n",
    "    except:\n",
    "        smaller_df.loc[index, \"Box Office\"] = \"N/A\"\n",
    "    \n",
    "smaller_df"
   ]
  },
  {
   "cell_type": "code",
   "execution_count": null,
   "id": "afaeb829",
   "metadata": {},
   "outputs": [],
   "source": [
    "### TRIMMING DATA FOR OMDB API CALLS ###\n",
    "\n",
    "# Trimming dataframe to only items with Box Office data\n",
    "\n",
    "boxoffice_df = smaller_df[smaller_df[\"Box Office\"] != \"N/A\"]\n",
    "boxoffice_df = boxoffice_df[boxoffice_df[\"Box Office\"] != 0.0]\n",
    "\n",
    "# Recasting Budget and Box Office as integers\n",
    "\n",
    "boxoffice_df[['Budget', 'Box Office']] = boxoffice_df[['Budget', 'Box Office']].astype(int)\n",
    "\n",
    "# Replacing missing values with Nan\n",
    "\n",
    "boxoffice_df.replace(0, np.nan, inplace=True)\n",
    "\n",
    "boxoffice_df"
   ]
  },
  {
   "cell_type": "code",
   "execution_count": null,
   "id": "7f79ac2e",
   "metadata": {},
   "outputs": [],
   "source": [
    "# Reducing to 900 items\n",
    "\n",
    "omdb_api_df = pd.DataFrame(boxoffice_df[:900])\n",
    "\n",
    "omdb_api_df"
   ]
  },
  {
   "cell_type": "markdown",
   "id": "bfcecd0b",
   "metadata": {},
   "source": [
    "#### Conclusion/Segway\n",
    "The size of the IMDb data set was....   And contained Genre, Run time, Budget, Critical Reviews, User Review, Awards/Nominations and MPAA Ratings.\n",
    "\n",
    "After the database was acquired and cleaned it was merged with a sample of movies from the OM"
   ]
  },
  {
   "cell_type": "markdown",
   "id": "49aabc0f",
   "metadata": {},
   "source": [
    "### Jim's Code Goes Here"
   ]
  },
  {
   "cell_type": "markdown",
   "id": "90ffff9b",
   "metadata": {},
   "source": [
    "## IMDB Preparation:\n",
    "    \n",
    "Although the IMDb does not contain some of the movie characteristics we wished to test, it does contain\n",
    "the box office information required for our analysis.  We will take a 900 movie sample from the IMDb and\n",
    "merge it with matching movie information in the OMDb database to form the basis of our analysis."
   ]
  },
  {
   "cell_type": "code",
   "execution_count": null,
   "id": "3a28f16d",
   "metadata": {},
   "outputs": [],
   "source": [
    "# Get 900 random movie sample from the OMDB"
   ]
  },
  {
   "cell_type": "code",
   "execution_count": null,
   "id": "21ef639e",
   "metadata": {},
   "outputs": [],
   "source": [
    "# Create CSV and dataframe"
   ]
  },
  {
   "cell_type": "markdown",
   "id": "3b1c9e7b",
   "metadata": {},
   "source": [
    "#### Conclusion/Segway\n",
    "The size of the IMDb data set was....   And contained Genre, Run time, Budget, Critical Reviews, User Review, Awards/Nominations and MPAA Ratings.\n",
    "\n",
    "Once our dataset was established we were ready to run our analysis.\n",
    "\n",
    "Segway to Box Office vs. Runtime Correlations (Kelly's stuff)"
   ]
  },
  {
   "cell_type": "markdown",
   "id": "ab5223cf",
   "metadata": {},
   "source": [
    "### Kelly's Code Here"
   ]
  },
  {
   "cell_type": "markdown",
   "id": "bbf0022c",
   "metadata": {},
   "source": [
    "## Box Office vs. Runtime Correlations\n",
    "In completing the box office/runtime correlation we had the following considerations....\n",
    "and face certain issues in cleaning the data, etc. etc. ..."
   ]
  },
  {
   "cell_type": "code",
   "execution_count": null,
   "id": "5d735c6e",
   "metadata": {},
   "outputs": [],
   "source": [
    "# Correlate Box Office v. Run time"
   ]
  },
  {
   "cell_type": "code",
   "execution_count": null,
   "id": "cf3931b8",
   "metadata": {},
   "outputs": [],
   "source": [
    "# Correlate Box Office v. Budget\n",
    "\n",
    "Awards / nominations\n",
    "MPAA Rating\n"
   ]
  },
  {
   "cell_type": "markdown",
   "id": "afabfbc5",
   "metadata": {},
   "source": [
    "#### Conclusion/Segway\n",
    "Conclusios about MPAA Rating analysis\n",
    "Box Office vs. Critical Review's (Phillips' stuff)\n"
   ]
  },
  {
   "cell_type": "markdown",
   "id": "fa3f9c23",
   "metadata": {},
   "source": [
    "### Philips' Code Goes Here"
   ]
  },
  {
   "cell_type": "markdown",
   "id": "032a26fa",
   "metadata": {},
   "source": [
    "## Box Office vs. Critical Reviews \n",
    "In completing the box critica reviews we had the following considerations....\n",
    "and face certain issues in cleaning the data, etc. etc. ..."
   ]
  },
  {
   "cell_type": "code",
   "execution_count": null,
   "id": "b56cf14c",
   "metadata": {},
   "outputs": [],
   "source": [
    "# Correlate Box Office v. Critical reviews"
   ]
  },
  {
   "cell_type": "code",
   "execution_count": null,
   "id": "94b66aa8",
   "metadata": {},
   "outputs": [],
   "source": [
    "# Correlate Box Office v. User reviews"
   ]
  },
  {
   "cell_type": "markdown",
   "id": "23b8ed0c",
   "metadata": {},
   "source": [
    "#### Conclusion/Segway\n",
    "Conclusios with  with Critical & User reviews analysis\n",
    "Segway to Awards / Nominations (Jim's Stuff).\n",
    "\n",
    "\n"
   ]
  },
  {
   "cell_type": "markdown",
   "id": "839de493",
   "metadata": {},
   "source": [
    "### Jim's Correlation Section Goes Here"
   ]
  },
  {
   "cell_type": "markdown",
   "id": "55e3cd88",
   "metadata": {},
   "source": [
    "## Box Office vs. Awards / Nominations\n",
    "In completing the box office vs. awards / nominations we had the following considerations....\n",
    "and face certain issues in cleaning the data, etc. etc. ..."
   ]
  },
  {
   "cell_type": "code",
   "execution_count": null,
   "id": "e4f1d56b",
   "metadata": {},
   "outputs": [],
   "source": [
    "# Correlate Box Office v Awards / nominations"
   ]
  },
  {
   "cell_type": "code",
   "execution_count": null,
   "id": "65e30970",
   "metadata": {},
   "outputs": [],
   "source": [
    "# option:  Correlate Box Office "
   ]
  },
  {
   "cell_type": "markdown",
   "id": "1ed539ea",
   "metadata": {},
   "source": [
    "#### Conclusion/Segway\n",
    "Conclusios with  with Awards/Nominations analysis\n",
    "Segway linear regression to T-testing final variables."
   ]
  },
  {
   "cell_type": "code",
   "execution_count": null,
   "id": "92604128",
   "metadata": {},
   "outputs": [],
   "source": []
  },
  {
   "cell_type": "markdown",
   "id": "910f5f24",
   "metadata": {},
   "source": [
    "## Steve's T-test (Chi Square? ANOVA?)\n",
    "I looked at movie genres & MPAA ratings.  With genres we look at \n",
    "correlations across cataegories and thus performed a different analysis\n",
    "that linear regression correlations..."
   ]
  },
  {
   "cell_type": "code",
   "execution_count": null,
   "id": "3e1ae24a",
   "metadata": {},
   "outputs": [],
   "source": [
    "# option: Steve performs t-test across movie genre \n",
    "# and Jim does both Awards & MPAA Rating correlations"
   ]
  },
  {
   "cell_type": "markdown",
   "id": "956042fc",
   "metadata": {},
   "source": [
    "#### Conclusion/Segway\n",
    "Conclusions of genre and MPAA analysis\n",
    "Segway to project conclusion"
   ]
  },
  {
   "cell_type": "markdown",
   "id": "86d738fe",
   "metadata": {},
   "source": [
    "## Project Conclusion\n",
    "In completing the box office vs. awards / nominations we had the following considerations....\n",
    "and face certain issues in cleaning the data, etc. etc. ..."
   ]
  }
 ],
 "metadata": {
  "kernelspec": {
   "display_name": "Python 3",
   "language": "python",
   "name": "python3"
  },
  "language_info": {
   "codemirror_mode": {
    "name": "ipython",
    "version": 3
   },
   "file_extension": ".py",
   "mimetype": "text/x-python",
   "name": "python",
   "nbconvert_exporter": "python",
   "pygments_lexer": "ipython3",
   "version": "3.8.8"
  }
 },
 "nbformat": 4,
 "nbformat_minor": 5
}
