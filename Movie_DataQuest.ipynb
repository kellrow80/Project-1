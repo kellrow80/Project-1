{
 "cells": [
  {
   "cell_type": "markdown",
   "id": "62c49f31",
   "metadata": {},
   "source": [
    "# Movie_DataQuest - Search For The Best Single Factor"
   ]
  },
  {
   "cell_type": "code",
   "execution_count": null,
   "id": "1e6ede66",
   "metadata": {},
   "outputs": [],
   "source": [
    "# Dependencies\n",
    "import requests\n",
    "from config import api_key"
   ]
  },
  {
   "cell_type": "markdown",
   "id": "27c7bb60",
   "metadata": {},
   "source": [
    "### Steve's Code Goes Here"
   ]
  },
  {
   "cell_type": "code",
   "execution_count": null,
   "id": "6622dfa2",
   "metadata": {},
   "outputs": [],
   "source": [
    "#Get MovieLens IMDB data"
   ]
  },
  {
   "cell_type": "code",
   "execution_count": null,
   "id": "b48a7300",
   "metadata": {},
   "outputs": [],
   "source": [
    "# Get TMDB data especially with respect to box office "
   ]
  },
  {
   "cell_type": "code",
   "execution_count": null,
   "id": "afaeb829",
   "metadata": {},
   "outputs": [],
   "source": [
    "# Merge MovieLens with TMDB"
   ]
  },
  {
   "cell_type": "markdown",
   "id": "49aabc0f",
   "metadata": {},
   "source": [
    "### Jim's Code Goes Here"
   ]
  },
  {
   "cell_type": "code",
   "execution_count": null,
   "id": "3a28f16d",
   "metadata": {},
   "outputs": [],
   "source": [
    "# Get 900 random movie sample from the OMDB"
   ]
  },
  {
   "cell_type": "code",
   "execution_count": null,
   "id": "21ef639e",
   "metadata": {},
   "outputs": [],
   "source": [
    "# Merge based on movie code to produce testible db "
   ]
  },
  {
   "cell_type": "markdown",
   "id": "ab5223cf",
   "metadata": {},
   "source": [
    "### Kelly's Code Here"
   ]
  },
  {
   "cell_type": "code",
   "execution_count": null,
   "id": "5d735c6e",
   "metadata": {},
   "outputs": [],
   "source": [
    "# Correlate Box Office v. Run time"
   ]
  },
  {
   "cell_type": "code",
   "execution_count": null,
   "id": "cf3931b8",
   "metadata": {},
   "outputs": [],
   "source": [
    "# Correlate Box Office v. Budget\n",
    "\n",
    "Awards / nominations\n",
    "MPAA Rating\n"
   ]
  },
  {
   "cell_type": "markdown",
   "id": "fa3f9c23",
   "metadata": {},
   "source": [
    "### Philips' Code Goes Here"
   ]
  },
  {
   "cell_type": "code",
   "execution_count": null,
   "id": "b56cf14c",
   "metadata": {},
   "outputs": [],
   "source": [
    "# Correlate Box Office v. Critical reviews"
   ]
  },
  {
   "cell_type": "code",
   "execution_count": null,
   "id": "94b66aa8",
   "metadata": {},
   "outputs": [],
   "source": [
    "# Correlate Box Office v. User reviews"
   ]
  },
  {
   "cell_type": "markdown",
   "id": "839de493",
   "metadata": {},
   "source": [
    "### Jim's Correlation Section Goes Here"
   ]
  },
  {
   "cell_type": "code",
   "execution_count": null,
   "id": "e4f1d56b",
   "metadata": {},
   "outputs": [],
   "source": [
    "# Correlate Box Office v Awards / nominations"
   ]
  },
  {
   "cell_type": "code",
   "execution_count": null,
   "id": "65e30970",
   "metadata": {},
   "outputs": [],
   "source": [
    "# option:  Correlate Box Office v MPAA Rating"
   ]
  },
  {
   "cell_type": "markdown",
   "id": "ba8fc125",
   "metadata": {},
   "source": [
    "### Steve's Correlation Section Goes Here"
   ]
  },
  {
   "cell_type": "code",
   "execution_count": null,
   "id": "6b2d9a6c",
   "metadata": {},
   "outputs": [],
   "source": [
    "# option  Correlate Box Office v MPAA Rating"
   ]
  },
  {
   "cell_type": "markdown",
   "id": "1080d8a2",
   "metadata": {},
   "source": [
    "### BONUS: Perform t-test across movie genres"
   ]
  },
  {
   "cell_type": "code",
   "execution_count": null,
   "id": "3e1ae24a",
   "metadata": {},
   "outputs": [],
   "source": [
    "# option: Steve performs t-test across movie genre \n",
    "# and Jim does both Awards & MPAA Rating correlations"
   ]
  }
 ],
 "metadata": {
  "kernelspec": {
   "display_name": "Python 3",
   "language": "python",
   "name": "python3"
  },
  "language_info": {
   "codemirror_mode": {
    "name": "ipython",
    "version": 3
   },
   "file_extension": ".py",
   "mimetype": "text/x-python",
   "name": "python",
   "nbconvert_exporter": "python",
   "pygments_lexer": "ipython3",
   "version": "3.8.8"
  }
 },
 "nbformat": 4,
 "nbformat_minor": 5
}
